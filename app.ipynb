{
 "cells": [
  {
   "cell_type": "code",
   "execution_count": 11,
   "metadata": {},
   "outputs": [],
   "source": [
    "import pandas as pd\n",
    "import dash\n",
    "from dash import dcc, html, Input, Output\n",
    "import plotly.express as px\n"
   ]
  },
  {
   "cell_type": "code",
   "execution_count": 12,
   "metadata": {},
   "outputs": [
    {
     "data": {
      "text/html": [
       "\n",
       "        <iframe\n",
       "            width=\"100%\"\n",
       "            height=\"650\"\n",
       "            src=\"http://127.0.0.1:8050/\"\n",
       "            frameborder=\"0\"\n",
       "            allowfullscreen\n",
       "            \n",
       "        ></iframe>\n",
       "        "
      ],
      "text/plain": [
       "<IPython.lib.display.IFrame at 0x221fc70acf0>"
      ]
     },
     "metadata": {},
     "output_type": "display_data"
    }
   ],
   "source": [
    "import pandas as pd\n",
    "import dash\n",
    "from dash import dcc, html, Input, Output\n",
    "import plotly.express as px\n",
    "\n",
    "# Load data\n",
    "df = pd.read_csv(\"world_cup_finals.csv\", dtype={\"Year\": str})\n",
    "\n",
    "# Drop any rows with missing values\n",
    "df.dropna(subset=[\"Winner\", \"Year\"], inplace=True)\n",
    "\n",
    "# Normalize types\n",
    "df[\"Winner\"] = df[\"Winner\"].astype(str)\n",
    "df[\"Year\"] = df[\"Year\"].astype(str)\n",
    "\n",
    "# Calculate win counts\n",
    "win_counts = df[\"Winner\"].value_counts().reset_index()\n",
    "win_counts.columns = [\"Country\", \"Wins\"]\n",
    "\n",
    "# Initialize app\n",
    "app = dash.Dash(__name__)\n",
    "app.title = \"FIFA World Cup Dashboard\"\n",
    "\n",
    "# Layout\n",
    "app.layout = html.Div([\n",
    "    html.H1(\"FIFA World Cup Dashboard\", style={'textAlign': 'center'}),\n",
    "\n",
    "    dcc.Graph(id=\"choropleth-map\"),\n",
    "\n",
    "    html.Label(\"Select a Country:\"),\n",
    "    dcc.Dropdown(\n",
    "        options=[{\"label\": c, \"value\": c} for c in sorted(df[\"Winner\"].unique())],\n",
    "        id=\"country-dropdown\"\n",
    "    ),\n",
    "    html.Div(id=\"win-output\"),\n",
    "\n",
    "    html.Label(\"Select a Year:\"),\n",
    "    dcc.Dropdown(\n",
    "        options=[{\"label\": y, \"value\": y} for y in sorted(df[\"Year\"].unique())],\n",
    "        id=\"year-dropdown\"\n",
    "    ),\n",
    "    html.Div(id=\"year-output\")\n",
    "])\n",
    "\n",
    "# Callbacks\n",
    "@app.callback(\n",
    "    Output(\"choropleth-map\", \"figure\"),\n",
    "    Input(\"country-dropdown\", \"value\")\n",
    ")\n",
    "def update_map(selected_country):\n",
    "    fig = px.choropleth(win_counts,\n",
    "                        locations=\"Country\",\n",
    "                        locationmode=\"country names\",\n",
    "                        color=\"Wins\",\n",
    "                        title=\"Countries that have won the World Cup\",\n",
    "                        color_continuous_scale=\"Viridis\")\n",
    "    return fig\n",
    "\n",
    "\n",
    "@app.callback(\n",
    "    Output(\"win-output\", \"children\"),\n",
    "    Input(\"country-dropdown\", \"value\")\n",
    ")\n",
    "def display_wins(country):\n",
    "    if country:\n",
    "        wins = df[df[\"Winner\"] == country].shape[0]\n",
    "        return f\"{country} has won the World Cup {wins} time(s).\"\n",
    "    return \"\"\n",
    "\n",
    "\n",
    "@app.callback(\n",
    "    Output(\"year-output\", \"children\"),\n",
    "    Input(\"year-dropdown\", \"value\")\n",
    ")\n",
    "def display_final(year):\n",
    "    if year:\n",
    "        match = df[df[\"Year\"] == year]\n",
    "        if not match.empty:\n",
    "            winner = match[\"Winner\"].values[0]\n",
    "            runner = match[\"RunnerUp\"].values[0]\n",
    "            return f\"In {year}, {winner} won and {runner} was the runner-up.\"\n",
    "    return \"\"\n",
    "\n",
    "# Run server\n",
    "if __name__ == \"__main__\":\n",
    "    app.run(debug=True)\n"
   ]
  }
 ],
 "metadata": {
  "kernelspec": {
   "display_name": "Python 3",
   "language": "python",
   "name": "python3"
  },
  "language_info": {
   "codemirror_mode": {
    "name": "ipython",
    "version": 3
   },
   "file_extension": ".py",
   "mimetype": "text/x-python",
   "name": "python",
   "nbconvert_exporter": "python",
   "pygments_lexer": "ipython3",
   "version": "3.13.0"
  }
 },
 "nbformat": 4,
 "nbformat_minor": 2
}
