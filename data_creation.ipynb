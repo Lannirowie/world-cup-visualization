{
 "cells": [
  {
   "cell_type": "code",
   "execution_count": 1,
   "metadata": {},
   "outputs": [],
   "source": [
    "import pandas as pd\n",
    "import requests\n",
    "from bs4 import BeautifulSoup"
   ]
  },
  {
   "cell_type": "code",
   "execution_count": 2,
   "metadata": {},
   "outputs": [
    {
     "name": "stdout",
     "output_type": "stream",
     "text": [
      "Data saved.\n"
     ]
    }
   ],
   "source": [
    "url = \"https://en.wikipedia.org/wiki/List_of_FIFA_World_Cup_finals\"\n",
    "res = requests.get(url)\n",
    "soup = BeautifulSoup(res.content, 'html.parser')\n",
    "\n",
    "# Get the correct table\n",
    "tables = soup.find_all(\"table\", {\"class\": \"wikitable\"})\n",
    "finals_table = tables[1]  # second table contains actual final results\n",
    "\n",
    "# Parse table into DataFrame\n",
    "data = []\n",
    "for row in finals_table.find_all(\"tr\")[1:]:\n",
    "    cols = row.find_all([\"th\", \"td\"])\n",
    "    if len(cols) >= 6:\n",
    "        year = cols[0].text.strip()\n",
    "        winner = cols[1].text.strip()\n",
    "        runner_up = cols[3].text.strip()\n",
    "        data.append([year, winner, runner_up])\n",
    "\n",
    "df = pd.DataFrame(data, columns=[\"Year\", \"Winner\", \"RunnerUp\"])\n",
    "\n",
    "# Normalize \"Germany\" and \"West Germany\"\n",
    "df[\"Winner\"] = df[\"Winner\"].replace(\"West Germany\", \"Germany\")\n",
    "df[\"RunnerUp\"] = df[\"RunnerUp\"].replace(\"West Germany\", \"Germany\")\n",
    "\n",
    "# Save to CSV\n",
    "df.to_csv(\"world_cup_finals.csv\", index=False)\n",
    "print(\"Data saved.\")"
   ]
  }
 ],
 "metadata": {
  "kernelspec": {
   "display_name": "Python 3",
   "language": "python",
   "name": "python3"
  },
  "language_info": {
   "codemirror_mode": {
    "name": "ipython",
    "version": 3
   },
   "file_extension": ".py",
   "mimetype": "text/x-python",
   "name": "python",
   "nbconvert_exporter": "python",
   "pygments_lexer": "ipython3",
   "version": "3.13.0"
  }
 },
 "nbformat": 4,
 "nbformat_minor": 2
}
